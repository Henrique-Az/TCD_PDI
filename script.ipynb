{
 "cells": [
  {
   "cell_type": "markdown",
   "metadata": {},
   "source": [
    "## Reconhecimento de digitais"
   ]
  },
  {
   "cell_type": "code",
   "execution_count": 1,
   "metadata": {},
   "outputs": [],
   "source": [
    "import numpy as np\n",
    "import cv2\n",
    "import matplotlib.pyplot as plt\n",
    "import os\n",
    "import pickle"
   ]
  },
  {
   "cell_type": "markdown",
   "metadata": {},
   "source": [
    "Funções para carregar e salvar informações das digitais"
   ]
  },
  {
   "cell_type": "code",
   "execution_count": 2,
   "metadata": {},
   "outputs": [],
   "source": [
    "def writeFeatures(kp, des, fileName):\n",
    "    index1 = []\n",
    "    for point in kp:\n",
    "        temp = (point.pt, point.size, point.angle, point.response, point.octave, \n",
    "            point.class_id) \n",
    "        index1.append(temp)\n",
    "    file=open(\"keypoints/\"+fileName+\".pkl\", \"wb\")\n",
    "    pickle.dump(index1, file)\n",
    "    file.close()\n",
    "    file=open(\"descritores/\"+fileName+\".npy\", \"wb\")\n",
    "    np.save(file, des)\n",
    "    file.close()   \n",
    "\n",
    "def readFeatures(fileName):\n",
    "    file=open(\"descritores/\"+fileName+\".npy\", \"rb\")\n",
    "    des=np.load(file)\n",
    "    file.close()\n",
    "\n",
    "    index = pickle.load(open(\"keypoints/\"+fileName+\".pkl\", \"rb\"))\n",
    "    kp = []\n",
    "\n",
    "    for point in index:\n",
    "        temp = cv2.KeyPoint(x=point[0][0],y=point[0][1],size=point[1], angle=point[2], \n",
    "                                response=point[3], octave=point[4], class_id=point[5]) \n",
    "        kp.append(temp)\n",
    "    return [kp, des]"
   ]
  },
  {
   "cell_type": "markdown",
   "metadata": {},
   "source": [
    "Funções para realizar pareamento entre features de digitais (a primeira função mostra uma imagem com o resultado visual da processo)"
   ]
  },
  {
   "cell_type": "code",
   "execution_count": 94,
   "metadata": {},
   "outputs": [],
   "source": [
    "def SIFT_Match_Image(file1, file2):\n",
    "    img1=cv2.imread(file1, cv2.IMREAD_GRAYSCALE)\n",
    "    img2=cv2.imread(file2, cv2.IMREAD_GRAYSCALE)\n",
    "\n",
    "    sift=cv2.SIFT_create(nOctaveLayers=4, contrastThreshold=0.12, sigma=2.5, enable_precise_upscale=True) \n",
    "    #valores sugeridos pelo artigo, com sigma exagerado pra remover pontos de interesse muito pequenos, gerados por regiões de baixa pressão\n",
    "    kp1, des1=sift.detectAndCompute(img1, None)\n",
    "    kp2, des2=sift.detectAndCompute(img2, None)\n",
    "\n",
    "    index_params = dict(algorithm = 1, trees = 5) #alg=1 significa usar indexação em kdtree\n",
    "    search_params = dict(checks=50)  #quantidade de pontos checados pelo knn\n",
    "    \n",
    "    flann = cv2.FlannBasedMatcher(index_params,search_params)\n",
    "    \n",
    "    matches = flann.knnMatch(des1,des2,k=2)\n",
    "    \n",
    "    # Need to draw only good matches, so create a mask\n",
    "    matchesMask = [[0,0] for i in range(len(matches))]\n",
    "    counter=0\n",
    "    # ratio test as per Lowe's paper\n",
    "    for i,(m,n) in enumerate(matches):\n",
    "        if m.distance < 0.8*n.distance:\n",
    "            counter+=1\n",
    "            matchesMask[i]=[1,0]\n",
    "    \n",
    "    draw_params = dict(matchColor = (0,255,0),\n",
    "                    singlePointColor = (255,0,0),\n",
    "                    matchesMask = matchesMask,\n",
    "                    flags = cv2.DrawMatchesFlags_DEFAULT)\n",
    "    \n",
    "    img3 = cv2.drawMatchesKnn(img1,kp1,img2,kp2,matches,None,**draw_params)\n",
    "    \n",
    "    plt.imshow(img3,),plt.show()\n",
    "    \n",
    "    return [counter, max(len(kp1),len(kp2))]\n",
    "\n",
    "def SIFT_Match(kp1, des1, kp2, des2):\n",
    "    if(len(kp1)<0.2*len(kp2) or 0.2*len(kp1)>len(kp2)):\n",
    "        return [0, 1]\n",
    "    index_params = dict(algorithm = 1, trees = 5) #alg=1 significa usar indexação em kdtree\n",
    "    search_params = dict(checks=50)  #quantidade de pontos checados pelo knn\n",
    "    \n",
    "    flann = cv2.FlannBasedMatcher(index_params,search_params)\n",
    "    \n",
    "    matches = flann.knnMatch(des1,des2,k=2)\n",
    "    \n",
    "    counter=0\n",
    "    # ratio test as per Lowe's paper\n",
    "    for (m,n) in matches:\n",
    "        if m.distance < 0.8*n.distance:\n",
    "            counter+=1\n",
    "\n",
    "    return [counter, max(len(kp1),len(kp2))]"
   ]
  },
  {
   "cell_type": "markdown",
   "metadata": {},
   "source": [
    "Calcula as features de todas as digitais do banco de dados dado, são salvos no armazenamento secundário para futuro acesso"
   ]
  },
  {
   "cell_type": "code",
   "execution_count": 4,
   "metadata": {},
   "outputs": [],
   "source": [
    "if not os.path.exists(\"keypoints\"):\n",
    "    os.makedirs(\"keypoints\")\n",
    "\n",
    "if not os.path.exists(\"descritores\"):\n",
    "    os.makedirs(\"descritores\")\n",
    "\n",
    "sift=cv2.SIFT_create(nOctaveLayers=4, contrastThreshold=0.12, sigma=2.5, enable_precise_upscale=True) \n",
    "for file in os.listdir(\"imagens\"):\n",
    "    img=cv2.imread(\"imagens/\"+file, cv2.IMREAD_GRAYSCALE)\n",
    "    kp, des=sift.detectAndCompute(img, None)\n",
    "    file=file[0:len(file)-4]\n",
    "    writeFeatures(kp, des, file)"
   ]
  },
  {
   "cell_type": "markdown",
   "metadata": {},
   "source": [
    "Separa a base de dados em um conjunto de treino e de teste"
   ]
  },
  {
   "cell_type": "code",
   "execution_count": null,
   "metadata": {},
   "outputs": [
    {
     "name": "stdout",
     "output_type": "stream",
     "text": [
      "['imagens/012_3_4.tif', 'imagens/012_4_6.tif', 'imagens/012_5_8.tif', 'imagens/012_6_6.tif', 'imagens/012_7_8.tif', 'imagens/012_8_3.tif', 'imagens/013_3_8.tif', 'imagens/013_4_6.tif', 'imagens/013_5_6.tif', 'imagens/013_6_8.tif', 'imagens/013_7_4.tif', 'imagens/013_8_1.tif', 'imagens/017_3_4.tif', 'imagens/017_4_7.tif', 'imagens/017_5_5.tif', 'imagens/017_6_2.tif', 'imagens/017_7_4.tif', 'imagens/017_8_7.tif', 'imagens/022_3_4.tif', 'imagens/022_4_6.tif', 'imagens/022_5_4.tif', 'imagens/022_6_4.tif', 'imagens/022_7_2.tif', 'imagens/022_8_8.tif', 'imagens/027_3_7.tif', 'imagens/027_4_3.tif', 'imagens/027_5_2.tif', 'imagens/027_6_7.tif', 'imagens/027_7_5.tif', 'imagens/027_8_1.tif', 'imagens/045_3_6.tif', 'imagens/045_4_2.tif', 'imagens/045_5_1.tif', 'imagens/045_6_8.tif', 'imagens/045_7_8.tif', 'imagens/045_8_4.tif', 'imagens/047_3_3.tif', 'imagens/047_4_3.tif', 'imagens/047_5_6.tif', 'imagens/047_6_1.tif', 'imagens/047_7_6.tif', 'imagens/047_8_6.tif', 'imagens/057_3_3.tif', 'imagens/057_4_2.tif', 'imagens/057_5_1.tif', 'imagens/076_3_1.tif', 'imagens/076_4_6.tif', 'imagens/076_5_2.tif', 'imagens/076_6_4.tif', 'imagens/076_7_2.tif', 'imagens/076_8_8.tif']\n"
     ]
    }
   ],
   "source": [
    "from random import randint\n",
    "\n",
    "files=[]\n",
    "\n",
    "for str in os.listdir(\"imagens\"):\n",
    "    files+=[str[:-4]]\n",
    "\n",
    "\n",
    "dados=list()\n",
    "for i in range(len(files)//8):\n",
    "    dados+=[files[8*i:8*(i+1)]]\n",
    "\n",
    "treino=list()\n",
    "teste=list()\n",
    "for digital in dados:\n",
    "    indice=randint(0,7)\n",
    "    teste+=[\"imagens/\"+digital.pop(indice)+\".tif\"]\n",
    "    treino+=[digital]"
   ]
  },
  {
   "cell_type": "markdown",
   "metadata": {},
   "source": [
    "Realiza a classificação entre duas digitais, considera que qualquer valor acima de 8% de matches entre as features das digitais é um potencial emparelhamento entre as duas digitais. Faz isso para todas as digitais do conjunto de teste"
   ]
  },
  {
   "cell_type": "code",
   "execution_count": null,
   "metadata": {},
   "outputs": [
    {
     "name": "stdout",
     "output_type": "stream",
     "text": [
      "hit\n",
      "hit\n",
      "hit\n",
      "hit\n",
      "hit\n",
      "hit\n",
      "hit\n",
      "hit\n",
      "hit\n",
      "hit\n",
      "hit\n",
      "hit\n",
      "hit\n",
      "hit\n",
      "hit\n",
      "hit\n",
      "hit\n",
      "hit\n",
      "hit\n",
      "hit\n",
      "hit\n",
      "hit\n",
      "hit\n",
      "hit\n",
      "hit\n",
      "hit\n",
      "hit\n",
      "hit\n",
      "hit\n",
      "hit\n",
      "hit\n",
      "hit\n",
      "hit\n",
      "hit\n",
      "hit\n",
      "hit\n",
      "hit\n",
      "hit\n",
      "hit\n",
      "hit\n",
      "hit\n",
      "41\n",
      "0\n"
     ]
    }
   ],
   "source": [
    "def getCod(str):\n",
    "    index=str.find(\"/\")+1\n",
    "    return str[index:index+3]\n",
    "\n",
    "def classificador(treino, imagem):\n",
    "    imagem=cv2.imread(imagem, cv2.IMREAD_GRAYSCALE)\n",
    "    sift=cv2.SIFT_create(nOctaveLayers=4, contrastThreshold=0.12, sigma=2.5, enable_precise_upscale=True) \n",
    "    kp2, des2=sift.detectAndCompute(imagem, None)\n",
    "    matches=[]\n",
    "    for digital in treino:\n",
    "        score=0\n",
    "        nivel=1\n",
    "        for leitura in digital:\n",
    "            args=readFeatures(leitura)\n",
    "            res=SIFT_Match(args[0], args[1], kp2, des2)\n",
    "            res=res[0]/res[1]\n",
    "            if(res<0.02):\n",
    "                if(nivel==0):\n",
    "                    score=0\n",
    "                    break\n",
    "                nivel=0\n",
    "            score+=res\n",
    "        score=score/len(digital)\n",
    "        if(score>0.08):\n",
    "            matches.append([score, leitura[0:3]])\n",
    "    return matches\n",
    "\n",
    "acertos=0\n",
    "falsoPositivo=0\n",
    "for arq in teste:\n",
    "    res=classificador(treino, arq)\n",
    "    if res!=[]:\n",
    "        if max(res, key=lambda x:x[0])[1]==getCod(arq):\n",
    "            acertos+=1\n",
    "        else:\n",
    "            falsoPositivo+=1\n",
    "print(acertos)\n",
    "print(falsoPositivo)"
   ]
  },
  {
   "cell_type": "code",
   "execution_count": null,
   "metadata": {},
   "outputs": [
    {
     "name": "stdout",
     "output_type": "stream",
     "text": [
      "0\n",
      "1\n",
      "2\n",
      "3\n",
      "4\n",
      "5\n",
      "6\n",
      "7\n",
      "8\n",
      "9\n",
      "10\n",
      "11\n",
      "12\n",
      "13\n",
      "14\n",
      "15\n",
      "16\n",
      "17\n",
      "18\n",
      "19\n",
      "20\n",
      "21\n",
      "22\n",
      "23\n",
      "24\n",
      "25\n",
      "26\n",
      "27\n",
      "28\n",
      "29\n",
      "30\n",
      "31\n",
      "32\n",
      "33\n",
      "34\n",
      "35\n",
      "36\n",
      "37\n",
      "38\n",
      "39\n",
      "40\n",
      "41\n",
      "42\n",
      "43\n"
     ]
    },
    {
     "ename": "KeyboardInterrupt",
     "evalue": "",
     "output_type": "error",
     "traceback": [
      "\u001b[1;31m---------------------------------------------------------------------------\u001b[0m",
      "\u001b[1;31mKeyboardInterrupt\u001b[0m                         Traceback (most recent call last)",
      "Cell \u001b[1;32mIn[95], line 11\u001b[0m\n\u001b[0;32m      9\u001b[0m \u001b[38;5;28mprint\u001b[39m(count)\n\u001b[0;32m     10\u001b[0m count\u001b[38;5;241m+\u001b[39m\u001b[38;5;241m=\u001b[39m\u001b[38;5;241m1\u001b[39m\n\u001b[1;32m---> 11\u001b[0m res\u001b[38;5;241m=\u001b[39m\u001b[43mclassificador\u001b[49m\u001b[43m(\u001b[49m\u001b[43mtreino\u001b[49m\u001b[43m,\u001b[49m\u001b[43m \u001b[49m\u001b[43marq\u001b[49m\u001b[43m)\u001b[49m\n\u001b[0;32m     12\u001b[0m \u001b[38;5;28;01mif\u001b[39;00m res\u001b[38;5;241m!=\u001b[39m[]:\n\u001b[0;32m     13\u001b[0m     falsoPositivo\u001b[38;5;241m+\u001b[39m\u001b[38;5;241m=\u001b[39m\u001b[38;5;241m1\u001b[39m\n",
      "Cell \u001b[1;32mIn[83], line 15\u001b[0m, in \u001b[0;36mclassificador\u001b[1;34m(treino, imagem)\u001b[0m\n\u001b[0;32m     13\u001b[0m \u001b[38;5;28;01mfor\u001b[39;00m leitura \u001b[38;5;129;01min\u001b[39;00m digital:\n\u001b[0;32m     14\u001b[0m     args\u001b[38;5;241m=\u001b[39mreadFeatures(leitura)\n\u001b[1;32m---> 15\u001b[0m     res\u001b[38;5;241m=\u001b[39m\u001b[43mSIFT_Match\u001b[49m\u001b[43m(\u001b[49m\u001b[43margs\u001b[49m\u001b[43m[\u001b[49m\u001b[38;5;241;43m0\u001b[39;49m\u001b[43m]\u001b[49m\u001b[43m,\u001b[49m\u001b[43m \u001b[49m\u001b[43margs\u001b[49m\u001b[43m[\u001b[49m\u001b[38;5;241;43m1\u001b[39;49m\u001b[43m]\u001b[49m\u001b[43m,\u001b[49m\u001b[43m \u001b[49m\u001b[43mkp2\u001b[49m\u001b[43m,\u001b[49m\u001b[43m \u001b[49m\u001b[43mdes2\u001b[49m\u001b[43m)\u001b[49m\n\u001b[0;32m     16\u001b[0m     res\u001b[38;5;241m=\u001b[39mres[\u001b[38;5;241m0\u001b[39m]\u001b[38;5;241m/\u001b[39mres[\u001b[38;5;241m1\u001b[39m]\n\u001b[0;32m     17\u001b[0m     \u001b[38;5;28;01mif\u001b[39;00m(res\u001b[38;5;241m<\u001b[39m\u001b[38;5;241m0.02\u001b[39m):\n",
      "Cell \u001b[1;32mIn[94], line 45\u001b[0m, in \u001b[0;36mSIFT_Match\u001b[1;34m(kp1, des1, kp2, des2)\u001b[0m\n\u001b[0;32m     41\u001b[0m search_params \u001b[38;5;241m=\u001b[39m \u001b[38;5;28mdict\u001b[39m(checks\u001b[38;5;241m=\u001b[39m\u001b[38;5;241m50\u001b[39m)  \u001b[38;5;66;03m#quantidade de pontos checados pelo knn\u001b[39;00m\n\u001b[0;32m     43\u001b[0m flann \u001b[38;5;241m=\u001b[39m cv2\u001b[38;5;241m.\u001b[39mFlannBasedMatcher(index_params,search_params)\n\u001b[1;32m---> 45\u001b[0m matches \u001b[38;5;241m=\u001b[39m \u001b[43mflann\u001b[49m\u001b[38;5;241;43m.\u001b[39;49m\u001b[43mknnMatch\u001b[49m\u001b[43m(\u001b[49m\u001b[43mdes1\u001b[49m\u001b[43m,\u001b[49m\u001b[43mdes2\u001b[49m\u001b[43m,\u001b[49m\u001b[43mk\u001b[49m\u001b[38;5;241;43m=\u001b[39;49m\u001b[38;5;241;43m2\u001b[39;49m\u001b[43m)\u001b[49m\n\u001b[0;32m     47\u001b[0m counter\u001b[38;5;241m=\u001b[39m\u001b[38;5;241m0\u001b[39m\n\u001b[0;32m     48\u001b[0m \u001b[38;5;66;03m# ratio test as per Lowe's paper\u001b[39;00m\n",
      "\u001b[1;31mKeyboardInterrupt\u001b[0m: "
     ]
    }
   ],
   "source": [
    "teste=[]\n",
    "\n",
    "for file in os.listdir(\"Falsas digitais\"):\n",
    "    teste+=[\"Falsas digitais/\"+file]\n",
    "\n",
    "acertos=0\n",
    "falsoPositivo=0\n",
    "for arq in teste:\n",
    "    res=classificador(treino, arq)\n",
    "    if res!=[]:\n",
    "        falsoPositivo+=1\n",
    "    else:\n",
    "        acertos+=1\n",
    "\n",
    "print(acertos)\n",
    "print(falsoPositivo)"
   ]
  },
  {
   "cell_type": "markdown",
   "metadata": {},
   "source": [
    "Testes para digitais verdadeiras e falsas"
   ]
  },
  {
   "cell_type": "code",
   "execution_count": null,
   "metadata": {},
   "outputs": [
    {
     "ename": "TypeError",
     "evalue": "'str' object is not callable",
     "output_type": "error",
     "traceback": [
      "\u001b[1;31m---------------------------------------------------------------------------\u001b[0m",
      "\u001b[1;31mTypeError\u001b[0m                                 Traceback (most recent call last)",
      "Cell \u001b[1;32mIn[108], line 42\u001b[0m\n\u001b[0;32m     37\u001b[0m             acertos\u001b[38;5;241m+\u001b[39m\u001b[38;5;241m=\u001b[39m\u001b[38;5;241m1\u001b[39m\n\u001b[0;32m     40\u001b[0m total\u001b[38;5;241m=\u001b[39macertos\u001b[38;5;241m+\u001b[39mfalsoPositivo\u001b[38;5;241m+\u001b[39mfalsoNegativo\n\u001b[1;32m---> 42\u001b[0m \u001b[38;5;28mprint\u001b[39m(\u001b[38;5;124m\"\u001b[39m\u001b[38;5;124mAcertos:\u001b[39m\u001b[38;5;124m\"\u001b[39m\u001b[38;5;241m+\u001b[39m\u001b[38;5;28;43mstr\u001b[39;49m\u001b[43m(\u001b[49m\u001b[38;5;241;43m100\u001b[39;49m\u001b[38;5;241;43m*\u001b[39;49m\u001b[43macertos\u001b[49m\u001b[38;5;241;43m/\u001b[39;49m\u001b[43mtotal\u001b[49m\u001b[43m)\u001b[49m\u001b[38;5;241m+\u001b[39m\u001b[38;5;124m\"\u001b[39m\u001b[38;5;124m%\u001b[39m\u001b[38;5;124m\"\u001b[39m)\n\u001b[0;32m     43\u001b[0m \u001b[38;5;28mprint\u001b[39m(\u001b[38;5;124m\"\u001b[39m\u001b[38;5;124mFalso positivo:\u001b[39m\u001b[38;5;124m\"\u001b[39m\u001b[38;5;241m+\u001b[39m\u001b[38;5;28mstr\u001b[39m(\u001b[38;5;241m100\u001b[39m\u001b[38;5;241m*\u001b[39mfalsoPositivo\u001b[38;5;241m/\u001b[39mtotal)\u001b[38;5;241m+\u001b[39m\u001b[38;5;124m\"\u001b[39m\u001b[38;5;124m%\u001b[39m\u001b[38;5;124m\"\u001b[39m)\n\u001b[0;32m     44\u001b[0m \u001b[38;5;28mprint\u001b[39m(\u001b[38;5;124m\"\u001b[39m\u001b[38;5;124mFalso negativo:\u001b[39m\u001b[38;5;124m\"\u001b[39m\u001b[38;5;241m+\u001b[39m\u001b[38;5;28mstr\u001b[39m(\u001b[38;5;241m100\u001b[39m\u001b[38;5;241m*\u001b[39mfalsoNegativo\u001b[38;5;241m/\u001b[39mtotal)\u001b[38;5;241m+\u001b[39m\u001b[38;5;124m\"\u001b[39m\u001b[38;5;124m%\u001b[39m\u001b[38;5;124m\"\u001b[39m)\n",
      "\u001b[1;31mTypeError\u001b[0m: 'str' object is not callable"
     ]
    }
   ],
   "source": [
    "acertos=0\n",
    "falsoPositivo=0\n",
    "falsoNegativo=0\n",
    "\n",
    "files=[]\n",
    "\n",
    "for str in os.listdir(\"imagens\"):\n",
    "    files+=[str[:-4]]\n",
    "\n",
    "falsas=[]\n",
    "for file in os.listdir(\"Falsas digitais\"):\n",
    "    falsas+=[\"Falsas digitais/\"+file]\n",
    "\n",
    "for i in range(4): #repetir o experimento 4 vezes e comparar os resultados\n",
    "    dados=[]\n",
    "    for i in range(len(files)//8):\n",
    "        dados+=[files[8*i:8*(i+1)]]\n",
    "        treino=list()\n",
    "        teste=list()\n",
    "    for digital in dados:\n",
    "        indice=randint(0,7)\n",
    "        teste+=[\"imagens/\"+digital.pop(indice)+\".tif\"]\n",
    "        treino+=[digital]\n",
    "    for arq in teste:\n",
    "        res=classificador(treino, arq)\n",
    "        if res!=[]:\n",
    "            if max(res, key=lambda x:x[0])[1]==getCod(arq):\n",
    "                acertos+=1\n",
    "            else:\n",
    "                falsoPositivo+=1\n",
    "    \n",
    "    for arq in falsas:\n",
    "        res=classificador(treino, arq)\n",
    "        if res!=[]:\n",
    "            falsoPositivo+=1\n",
    "        else:\n",
    "            acertos+=1\n",
    "    \n"
   ]
  },
  {
   "cell_type": "code",
   "execution_count": null,
   "metadata": {},
   "outputs": [
    {
     "name": "stdout",
     "output_type": "stream",
     "text": [
      "524 473 48 3 0\n"
     ]
    }
   ],
   "source": [
    "total=51*4+80*4\n",
    "\n",
    "print(total, acertos, total-acertos-falsoNegativo-falsoPositivo, falsoPositivo, falsoNegativo)\n"
   ]
  }
 ],
 "metadata": {
  "kernelspec": {
   "display_name": "Python 3",
   "language": "python",
   "name": "python3"
  },
  "language_info": {
   "codemirror_mode": {
    "name": "ipython",
    "version": 3
   },
   "file_extension": ".py",
   "mimetype": "text/x-python",
   "name": "python",
   "nbconvert_exporter": "python",
   "pygments_lexer": "ipython3",
   "version": "3.12.4"
  }
 },
 "nbformat": 4,
 "nbformat_minor": 2
}
